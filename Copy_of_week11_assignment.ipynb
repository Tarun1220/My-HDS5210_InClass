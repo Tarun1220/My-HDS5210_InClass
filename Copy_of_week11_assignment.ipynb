{
  "cells": [
    {
      "cell_type": "markdown",
      "metadata": {
        "id": "view-in-github",
        "colab_type": "text"
      },
      "source": [
        "<a href=\"https://colab.research.google.com/github/Tarun1220/My-HDS5210_InClass/blob/master/Copy_of_week11_assignment.ipynb\" target=\"_parent\"><img src=\"https://colab.research.google.com/assets/colab-badge.svg\" alt=\"Open In Colab\"/></a>"
      ]
    },
    {
      "cell_type": "markdown",
      "metadata": {
        "id": "l87FQIMWnzIF"
      },
      "source": [
        "# Week 11 Assignment\n",
        "\n",
        "\n",
        "Please do the programming exercise and verify that your code works using the tests, then think about your final project and fill out the questions in the second part.\n",
        "\n",
        "---\n",
        "---"
      ]
    },
    {
      "cell_type": "markdown",
      "metadata": {
        "id": "TqiVn-28nzII"
      },
      "source": [
        "### 47.1: Filtering and summarizing data\n",
        "\n",
        "For this work, you'll find a data file in `/data/complications_all.csv`.\n",
        "\n",
        "Read in the data file and create a variable called `mo_hospitals` that contains a data frame from the `complications_all.csv` file, filtered down to only contain those hospitals from the state of Missouri (MO).\n",
        "\n",
        "Then aggregate that data by hospital into a variable named `mo_summary`.  There are some key fields that we want to summarize:\n",
        "* We want to know the earliest date that each hospital was participating in any program\n",
        "* We want to know the latest date that each hospital stopped participating in any program\n",
        "* We want to know the total number of patients in the denominators of these programs\n",
        "\n",
        "Some things to note:\n",
        "* You will need to convert the `Start Date` and `End Date` to actual datetime fields\n",
        "* You will need to clean up and convert the `Denominator` field to just be numeric - the rule that you should use it to simply remove any records where the `Denominator` is `'Not Available'`\n",
        "\n",
        "\n",
        "The final result of this step should be a new data frame called `mo_summary` that contains one row for each hospital and contains the min start date, max end date, and total denominator.  Use the names `start_date`, `end_date`, and `number` for those columns in `mo_summary`.\n",
        "\n",
        "\n",
        "You do not need to create your code in the form of a function, just make sure your variable names match what I've described above so the tests work."
      ]
    },
    {
      "cell_type": "code",
      "execution_count": null,
      "metadata": {
        "id": "VFrfSjRYnzIJ"
      },
      "outputs": [],
      "source": [
        "import pandas as pd\n",
        "# This is just to show you the name to use for the variable you need to create for this step to pass.\n",
        "all_hospitals = pd.read_csv('https://hds5210-data.s3.amazonaws.com/complications_all.csv')\n"
      ]
    },
    {
      "cell_type": "code",
      "execution_count": 1,
      "metadata": {
        "id": "RpaIoGs4nzIL"
      },
      "outputs": [],
      "source": [
        "import pandas as pd\n",
        "# Load the CSV data\n",
        "data = pd.read_csv('/content/data/complications_all.csv')"
      ]
    },
    {
      "cell_type": "code",
      "source": [
        "# Filter data for hospitals in Missouri (MO)\n",
        "mo_hospitals = data[data['State'] == 'MO'].copy()\n",
        "\n",
        "# Convert 'Start Date' and 'End Date' columns to datetime\n",
        "mo_hospitals['Start Date'] = pd.to_datetime(mo_hospitals['Start Date'], errors='coerce')\n",
        "mo_hospitals['End Date'] = pd.to_datetime(mo_hospitals['End Date'], errors='coerce')\n",
        "# Remove rows where Denominator is 'Not Available' and convert it to numeric\n",
        "mo_hospitals = mo_hospitals[mo_hospitals['Denominator'] != 'Not Available']\n",
        "mo_hospitals['Denominator'] = pd.to_numeric(mo_hospitals['Denominator'], errors='coerce')"
      ],
      "metadata": {
        "id": "xgOCJl5KuH9n",
        "colab": {
          "base_uri": "https://localhost:8080/"
        },
        "outputId": "89fcd34c-e423-4a08-f125-c66d0943d212"
      },
      "execution_count": 2,
      "outputs": [
        {
          "output_type": "stream",
          "name": "stderr",
          "text": [
            "<ipython-input-2-c4c6941d81cf>:9: SettingWithCopyWarning: \n",
            "A value is trying to be set on a copy of a slice from a DataFrame.\n",
            "Try using .loc[row_indexer,col_indexer] = value instead\n",
            "\n",
            "See the caveats in the documentation: https://pandas.pydata.org/pandas-docs/stable/user_guide/indexing.html#returning-a-view-versus-a-copy\n",
            "  mo_hospitals['Denominator'] = pd.to_numeric(mo_hospitals['Denominator'], errors='coerce')\n"
          ]
        }
      ]
    },
    {
      "cell_type": "code",
      "source": [
        "# Aggregate the data by hospital\n",
        "mo_summary = mo_hospitals.groupby('Facility Name').agg(\n",
        "    start_date=('Start Date', 'min'),\n",
        "    end_date=('End Date', 'max'),\n",
        "    number=('Denominator', 'sum')\n",
        ").reset_index()\n",
        "# Set Facility Name as index to support .loc for assertions\n",
        "mo_summary.set_index('Facility Name', inplace=True)"
      ],
      "metadata": {
        "id": "M-02bKg9uQ1v"
      },
      "execution_count": 3,
      "outputs": []
    },
    {
      "cell_type": "code",
      "execution_count": 4,
      "metadata": {
        "id": "-nfSBgEYnzIM"
      },
      "outputs": [],
      "source": [
        "assert(mo_summary['number'].sum() == 1766908)\n",
        "assert(mo_summary['start_date'].min() == pd.Timestamp(2015,4,1))\n",
        "assert(mo_summary['end_date'].max() == pd.Timestamp(2018,6,30))\n",
        "assert(mo_summary.shape == (108,3))\n",
        "assert(mo_summary.loc['BARNES JEWISH HOSPITAL'].number == 131313)\n",
        "assert(mo_summary.loc['BOONE HOSPITAL CENTER'].number == 63099)"
      ]
    },
    {
      "cell_type": "markdown",
      "metadata": {
        "id": "wBAoyjDHnzIM"
      },
      "source": [
        "---\n",
        "\n",
        "### 47.2 Planning your final project\n",
        "\n",
        "You should be thinking about the things we've been learning and how you can apply them to your final project.  Use the rubric to help guid your thinking and then answer the questions below.  This is meant as a guide to help you think through what you will do."
      ]
    },
    {
      "cell_type": "markdown",
      "metadata": {
        "id": "tBpO3vBunzIM"
      },
      "source": [
        "#### A) Data Access\n",
        "\n",
        "Your project should include data from at least three distinct types of sources.  For example: AWS S3, Relational Databases, Internet, Web Services, local files.  List what data sources you're planning to use."
      ]
    },
    {
      "cell_type": "markdown",
      "metadata": {
        "id": "_KB5qHtLnzIN"
      },
      "source": [
        "**My Answer**\n",
        "\n",
        "For my final project, I’ll use data from three different sources:\n",
        "\n",
        "AWS S3: This is an online storage service where I can keep big datasets, like CSV files or JSON files. It’s useful because it’s easy to access and can handle a lot of data that updates often.\n",
        "\n",
        "Relational Database (like MySQL or PostgreSQL): This is a structured database where I can store data that’s organized in tables, like user information or transaction records. With SQL, I can quickly get the specific data I need and make changes to it.\n",
        "\n",
        "Web API: I’ll use a public API to bring in data that updates frequently, like weather information, stock market prices, or social media data. This lets my project use fresh, real-time data without storing it all myself.\n"
      ]
    },
    {
      "cell_type": "markdown",
      "metadata": {
        "id": "lFQqwsTEnzIN"
      },
      "source": [
        "#### B. Data Formats\n",
        "\n",
        "Your project should include data that comes in different file formats.  For example: HL7, EDI, HTML, CSV, Excel, JSON, XML.  List what data formats you're planning to use."
      ]
    },
    {
      "cell_type": "markdown",
      "metadata": {
        "id": "fYWVTbgJnzIN"
      },
      "source": [
        "**My Answer**\n",
        "\n",
        "For my project, I plan to work with data in a variety of formats to meet the requirements:\n",
        "\n",
        "CSV: For structured data that’s easy to read and analyze in tables, like log files or datasets with rows and columns. CSV files are simple, lightweight, and commonly used for data storage and exchange.\n",
        "\n",
        "JSON: For data from web APIs, as JSON is the standard format for exchanging data between systems, especially over the web. JSON is flexible and can store complex data structures, making it ideal for data coming from APIs.\n",
        "\n",
        "Excel: For any data that may need to be processed or shared with non-technical users, as Excel files (.xlsx) are widely compatible and can contain multiple sheets, formatted tables, and formulas. Excel is ideal for reports or manually curated datasets.\n"
      ]
    },
    {
      "cell_type": "markdown",
      "metadata": {
        "id": "G01sWBounzIO"
      },
      "source": [
        "#### C. Objective\n",
        "\n",
        "What purpose would your project serve in a real work setting?  Take a couple of paragraphs to write down why this is an interesting product."
      ]
    },
    {
      "cell_type": "markdown",
      "metadata": {
        "id": "Xk-XQrY9nzIO"
      },
      "source": [
        "**My Answer**\n",
        "\n",
        "In a real work setting, this project would help businesses make better decisions by bringing together data from different sources in one place. For example, a company could use it to understand customer behavior by combining purchase history from their database with real-time information from the web, like trending products or social media activity. It would also pull in older data stored in AWS to give a complete picture of customer trends over time. This could help the company decide which products to promote, where to focus their marketing, and how to engage with customers.\n",
        "\n",
        "This project is interesting because it solves a common problem: data is often stored in different places and formats, which makes it hard to analyze all together. By collecting and standardizing the data, this tool makes it much easier to see important patterns and act on them quickly. It could save companies a lot of time and effort, letting them respond faster to customer needs and market changes.\n"
      ]
    },
    {
      "cell_type": "markdown",
      "metadata": {
        "id": "Wbj_ANRlnzIO"
      },
      "source": [
        "\n",
        "\n",
        "---\n",
        "\n",
        "\n",
        "\n",
        "## Submit your work via GitHub as normal\n"
      ]
    }
  ],
  "metadata": {
    "kernelspec": {
      "display_name": "Python 3",
      "language": "python",
      "name": "python3"
    },
    "language_info": {
      "codemirror_mode": {
        "name": "ipython",
        "version": 3
      },
      "file_extension": ".py",
      "mimetype": "text/x-python",
      "name": "python",
      "nbconvert_exporter": "python",
      "pygments_lexer": "ipython3",
      "version": "3.9.16"
    },
    "colab": {
      "provenance": [],
      "include_colab_link": true
    }
  },
  "nbformat": 4,
  "nbformat_minor": 0
}