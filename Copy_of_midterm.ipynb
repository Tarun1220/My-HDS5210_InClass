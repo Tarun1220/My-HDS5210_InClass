{
  "cells": [
    {
      "cell_type": "markdown",
      "metadata": {
        "id": "view-in-github",
        "colab_type": "text"
      },
      "source": [
        "<a href=\"https://colab.research.google.com/github/Tarun1220/My-HDS5210_InClass/blob/master/Copy_of_midterm.ipynb\" target=\"_parent\"><img src=\"https://colab.research.google.com/assets/colab-badge.svg\" alt=\"Open In Colab\"/></a>"
      ]
    },
    {
      "cell_type": "markdown",
      "metadata": {
        "id": "u_cLQ4_EBQmm"
      },
      "source": [
        "### Mid-term for HDS5210\n",
        "\n",
        "Your supervisor is concerned about 4-year survival risks for COPD. She has asked for you to do some analysis using a new metric, BODE. BODE is an improvement on a previous metric and promises to provide insight on survival risks.\n",
        "\n",
        "BODE is defined here. https://www.mdcalc.com/calc/3916/bode-index-copd-survival#evidence\n",
        "\n",
        "Your assignment is to create a BODE calculation, use it to calculate BODE scores and BODE survival rates for a group of patients. Then we want to evaluate the average BODE scores and BODE survival rates for each area hospital.\n",
        "\n",
        "Your patient input file will have the following columns:\n",
        "NAME,SSN,LANGUAGE,JOB,HEIGHT_M,WEIGHT_KG,fev_pct,dyspnea_description,distance_in_meters,hospital\n",
        "\n",
        "BODE calculations require a BMI value, so you will have to create a function for it.\n",
        "\n",
        "Your output should be in the form of two CSV files, patient_output.csv and hospital_output.csv.\n",
        "\n",
        "Patient_output will have the following columns:\n",
        "NAME,BODE_SCORE,BODE_RISK,HOSPITAL\n",
        "\n",
        "Hospital output will have the following columns:\n",
        "HOSPITAL_NAME, COPD_COUNT, PCT_OF_COPD_CASES_OVER_BEDS, AVG_SCORE, AVG_RISK\n",
        "\n",
        "Each function you create should have documentation and a suitable number of test cases. If the input data could be wrong, make sure to raise a Value Error.\n",
        "\n",
        "For this assignment, use the doctest, json, and csv libraries. Pandas is not allowed for this assignment."
      ]
    },
    {
      "cell_type": "code",
      "execution_count": 20,
      "metadata": {
        "id": "nt85IR72BQmq"
      },
      "outputs": [],
      "source": [
        "import doctest\n",
        "import json\n",
        "import csv"
      ]
    },
    {
      "cell_type": "markdown",
      "metadata": {
        "id": "YcAlRpvhBQms"
      },
      "source": [
        "### Step 1: Calculate BMI"
      ]
    },
    {
      "cell_type": "code",
      "execution_count": 21,
      "metadata": {
        "id": "610SeHCaBQms"
      },
      "outputs": [],
      "source": [
        "def calculate_bmi(weight_kg, height_m):\n",
        "    \"\"\"\n",
        "    Calculate BMI (Body Mass Index) using weight in kilograms and height in meters.\n",
        "\n",
        "    : weight_kg: Weight in kilograms\n",
        "    : height_m: Height in meters\n",
        "    :return: Calculated BMI value (float)\n",
        "    :raises ValueError: If weight or height are non-positive\n",
        "    \"\"\"\n",
        "    if weight_kg <= 0 or height_m <= 0:\n",
        "        raise ValueError(\"Weight and height must be positive numbers.\")\n",
        "\n",
        "    return weight_kg / (height_m ** 2)\n"
      ]
    },
    {
      "cell_type": "code",
      "source": [
        "# Test Case 1:\n",
        "print(calculate_bmi(70, 1.75))\n",
        "\n",
        "# Test Case 2:\n",
        "print(calculate_bmi(50, 1.6))\n",
        "\n",
        "# Test Case 3:\n",
        "try:\n",
        "    print(calculate_bmi(70, -1.75))\n",
        "except ValueError as e:\n",
        "    print(e)\n",
        "\n",
        "# Test Case 4:\n",
        "try:\n",
        "    print(calculate_bmi(0, 1.75))\n",
        "except ValueError as e:\n",
        "    print(e)\n"
      ],
      "metadata": {
        "id": "6A5UzJ8BBY0b",
        "outputId": "8e079aa4-4f75-446f-afec-558e89a6a99c",
        "colab": {
          "base_uri": "https://localhost:8080/"
        }
      },
      "execution_count": 22,
      "outputs": [
        {
          "output_type": "stream",
          "name": "stdout",
          "text": [
            "22.857142857142858\n",
            "19.531249999999996\n",
            "Weight and height must be positive numbers.\n",
            "Weight and height must be positive numbers.\n"
          ]
        }
      ]
    },
    {
      "cell_type": "markdown",
      "metadata": {
        "id": "x_s5-BtnBQmt"
      },
      "source": [
        "### Step 2: Calculate BODE Score"
      ]
    },
    {
      "cell_type": "code",
      "execution_count": 23,
      "metadata": {
        "id": "b9jRlpXkBQmt"
      },
      "outputs": [],
      "source": [
        "def bode_score(bmi, fev_pct, dyspnea_description, distance_in_meters):\n",
        "    \"\"\"\n",
        "    Calculate BODE score for a patient based on BMI, FEV1%, dyspnea, and 6-minute walk distance.\n",
        "\n",
        "    : bmi: Body Mass Index (float)\n",
        "    : fev_pct: FEV1 percentage (float)\n",
        "    : dyspnea_description: A description of dyspnea (breathlessness level)\n",
        "    : distance_in_meters: Distance walked in meters during a 6-minute walk test\n",
        "    :return: BODE score (int)\n",
        "    :raises ValueError: If input data is invalid\n",
        "    \"\"\"\n",
        "\n",
        "    # BMI score\n",
        "    if bmi > 21:\n",
        "        bmi_score = 0\n",
        "    else:\n",
        "        bmi_score = 1\n",
        "\n",
        "    # FEV1 score\n",
        "    if fev_pct >= 65:\n",
        "        fev_score = 0\n",
        "    elif fev_pct >= 50:\n",
        "        fev_score = 1\n",
        "    elif fev_pct >= 36:\n",
        "        fev_score = 2\n",
        "    elif fev_pct < 36:\n",
        "        fev_score = 3\n",
        "    else:\n",
        "        raise ValueError(\"Invalid FEV1 percentage.\")\n",
        "\n",
        "    # Dyspnea score based on description\n",
        "    dyspnea_mapping = {\n",
        "        \"Only breathless with strenuous exercise\": 0,\n",
        "        \"Breathless when hurrying or walking uphill\": 1,\n",
        "        \"Walks slower, stops for breath\": 2,\n",
        "        \"Stops for breath after 100 yards or a few minutes on level ground\": 3,\n",
        "        \"Too breathless to leave house or while dressing\": 4\n",
        "    }\n",
        "\n",
        "    if dyspnea_description not in dyspnea_mapping:\n",
        "        raise ValueError(\"Invalid dyspnea description provided.\")\n",
        "\n",
        "    dyspnea_score = dyspnea_mapping[dyspnea_description]\n",
        "\n",
        "    # 6-minute walk distance score\n",
        "    if distance_in_meters >= 350:\n",
        "        distance_score = 0\n",
        "    elif distance_in_meters >= 250:\n",
        "        distance_score = 1\n",
        "    elif distance_in_meters >= 150:\n",
        "        distance_score = 2\n",
        "    elif distance_in_meters < 150:\n",
        "        distance_score = 3\n",
        "    else:\n",
        "        raise ValueError(\"Invalid 6-minute walk distance.\")\n",
        "\n",
        "    # Total BODE score\n",
        "    return bmi_score + fev_score + dyspnea_score + distance_score\n"
      ]
    },
    {
      "cell_type": "code",
      "source": [
        "# Test Case 1:\n",
        "bmi = calculate_bmi(70, 1.75)\n",
        "fev_pct = 65\n",
        "dyspnea_description = \"Breathless when hurrying or walking uphill\"\n",
        "distance_in_meters = 300\n",
        "print(bode_score(bmi, fev_pct, dyspnea_description, distance_in_meters))\n",
        "\n",
        "# Test Case 2:\n",
        "bmi = calculate_bmi(55, 1.60)\n",
        "fev_pct = 35\n",
        "dyspnea_description = \"Stops for breath after 100 yards or a few minutes on level ground\"\n",
        "distance_in_meters = 100\n",
        "print(bode_score(bmi, fev_pct, dyspnea_description, distance_in_meters))\n",
        "\n",
        "# Test Case 3:\n",
        "try:\n",
        "    print(bode_score(22, 60, \"Unknown description\", 200))\n",
        "except ValueError as e:\n",
        "    print(e)\n",
        "\n",
        "# Test Case 4:\n",
        "try:\n",
        "    print(bode_score(22, -10, \"Breathless when hurrying or walking uphill\", 300))\n",
        "except ValueError as e:\n",
        "    print(e)\n"
      ],
      "metadata": {
        "id": "FkRfQMHJBePp",
        "outputId": "fbc17324-51e7-437e-e8a3-db03835bd2bc",
        "colab": {
          "base_uri": "https://localhost:8080/"
        }
      },
      "execution_count": 24,
      "outputs": [
        {
          "output_type": "stream",
          "name": "stdout",
          "text": [
            "2\n",
            "9\n",
            "Invalid dyspnea description provided.\n",
            "5\n"
          ]
        }
      ]
    },
    {
      "cell_type": "markdown",
      "metadata": {
        "id": "QMa1mBQkBQmu"
      },
      "source": [
        "### Step 3: Calculate BODE Risk"
      ]
    },
    {
      "cell_type": "code",
      "execution_count": 25,
      "metadata": {
        "id": "Ej5fBcHEBQmu"
      },
      "outputs": [],
      "source": [
        "def bode_risk(score):\n",
        "    \"\"\"\n",
        "    Map a BODE score to a survival risk percentage based on predefined ranges.\n",
        "\n",
        "    : score: BODE score (int)\n",
        "    :return: 4-year survival risk percentage (int)\n",
        "    :raises ValueError: If the score is outside the valid range (0–10)\n",
        "    \"\"\"\n",
        "    if not (0 <= score <= 10):\n",
        "        raise ValueError(\"BODE score must be between 0 and 10.\")\n",
        "\n",
        "    if 0 <= score <= 2:\n",
        "        return 80\n",
        "    elif 3 <= score <= 4:\n",
        "        return 67\n",
        "    elif 5 <= score <= 6:\n",
        "        return 57\n",
        "    elif 7 <= score <= 10:\n",
        "        return 18\n"
      ]
    },
    {
      "cell_type": "code",
      "source": [
        "# Test Case 1:\n",
        "print(bode_risk(2))\n",
        "\n",
        "# Test Case 2:\n",
        "print(bode_risk(3))\n",
        "\n",
        "# Test Case 3:\n",
        "print(bode_risk(5))\n",
        "# Test Case 4:\n",
        "print(bode_risk(8))\n",
        "# Test Case 5:\n",
        "try:\n",
        "    print(bode_risk(11))\n",
        "except ValueError as e:\n",
        "    print(e)\n",
        "\n",
        "# Test Case 6:\n",
        "try:\n",
        "    print(bode_risk(-1))\n",
        "except ValueError as e:\n",
        "    print(e)\n"
      ],
      "metadata": {
        "id": "coqsTPyOBpCv",
        "outputId": "444ca726-11c6-4d11-ded8-e44473bda266",
        "colab": {
          "base_uri": "https://localhost:8080/"
        }
      },
      "execution_count": 26,
      "outputs": [
        {
          "output_type": "stream",
          "name": "stdout",
          "text": [
            "80\n",
            "67\n",
            "57\n",
            "18\n",
            "BODE score must be between 0 and 10.\n",
            "BODE score must be between 0 and 10.\n"
          ]
        }
      ]
    },
    {
      "cell_type": "markdown",
      "metadata": {
        "id": "g2WCzaaSBQmu"
      },
      "source": [
        "### Step 4: Load Hospital Data"
      ]
    },
    {
      "cell_type": "code",
      "execution_count": 27,
      "metadata": {
        "id": "3Wi6L6usBQmv",
        "outputId": "3a5a250c-eec2-4e79-b8ec-22c2e6b3aea1",
        "colab": {
          "base_uri": "https://localhost:8080/"
        }
      },
      "outputs": [
        {
          "output_type": "stream",
          "name": "stdout",
          "text": [
            "Loaded 1000 patients from '/content/patient.csv'.\n",
            "Loaded 3 hospitals from '/content/hospitals (2).json'.\n"
          ]
        }
      ],
      "source": [
        "import csv\n",
        "import json\n",
        "\n",
        "# patients data\n",
        "def load_patient_data(file_path):\n",
        "    \"\"\"\n",
        "    Load patient data from a CSV file\n",
        "    \"\"\"\n",
        "    required_columns = {'NAME', 'HEIGHT_M', 'WEIGHT_KG', 'fev_pct', 'dyspnea_description', 'distance_in_meters', 'hospital'}\n",
        "    patient_data = []\n",
        "\n",
        "    with open(file_path, mode='r') as file:\n",
        "        reader = csv.DictReader(file)\n",
        "\n",
        "        # Check for missing columns\n",
        "        missing_cols = required_columns - set(reader.fieldnames)\n",
        "        if missing_cols:\n",
        "            raise ValueError(f\"Missing columns: {missing_cols}\")\n",
        "\n",
        "        for row in reader:\n",
        "            try:\n",
        "                patient_data.append({\n",
        "                    'NAME': row['NAME'],\n",
        "                    'HEIGHT_M': float(row['HEIGHT_M']),\n",
        "                    'WEIGHT_KG': float(row['WEIGHT_KG']),\n",
        "                    'fev_pct': float(row['fev_pct']),\n",
        "                    'dyspnea_description': row['dyspnea_description'],\n",
        "                    'distance_in_meters': float(row['distance_in_meters']),\n",
        "                    'hospital': row['hospital']\n",
        "                })\n",
        "            except (ValueError, KeyError) as e:\n",
        "                name = row.get('NAME', 'Unknown')\n",
        "                print(f\"Skipping {name} due to error: {e}\")\n",
        "\n",
        "    return patient_data\n",
        "\n",
        "# Load patient data\n",
        "try:\n",
        "    patients = load_patient_data('/content/patient.csv')\n",
        "    print(f\"Loaded {len(patients)} patients from '/content/patient.csv'.\")\n",
        "except ValueError as e:\n",
        "    print(f\"Error loading patient data: {e}\")\n",
        "\n",
        "# hospital data\n",
        "def load_hospital_info(json_path):\n",
        "    \"\"\"\n",
        "    Load hospital information from a JSON file.\n",
        "    \"\"\"\n",
        "    try:\n",
        "        with open(json_path, 'r') as json_file:\n",
        "            return json.load(json_file)\n",
        "    except json.JSONDecodeError as e:\n",
        "        raise ValueError(f\"Error decoding JSON: {e}\")\n",
        "\n",
        "# Load hospital data\n",
        "try:\n",
        "    hospitals = load_hospital_info('/content/hospitals (2).json')\n",
        "    print(f\"Loaded {len(hospitals)} hospitals from '/content/hospitals (2).json'.\")\n",
        "except ValueError as e:\n",
        "    print(f\"Error loading hospital data: {e}\")\n"
      ]
    },
    {
      "cell_type": "markdown",
      "metadata": {
        "id": "Ljvr08u7BQmv"
      },
      "source": [
        "### Step 5: Main business logic\n",
        "\n",
        "Call BODE Score, BODE Risk functions for each patient.\n",
        "\n",
        "For each hospital, calculate Avg BODE score and Avg BODE risk and count the number of cases for each hospital."
      ]
    },
    {
      "cell_type": "code",
      "execution_count": 28,
      "metadata": {
        "id": "PT9cFojzBQmw",
        "colab": {
          "base_uri": "https://localhost:8080/"
        },
        "outputId": "8713a325-a100-4abc-919d-23aca02c0328"
      },
      "outputs": [
        {
          "output_type": "stream",
          "name": "stdout",
          "text": [
            "CSV Headers: ['NAME', 'SSN', 'LANGUAGE', 'JOB', 'HEIGHT_M', 'WEIGHT_KG', 'fev_pct', 'dyspnea_description', 'distance_in_meters', 'hospital']\n",
            "Patient Results:\n",
            "['Vanessa Roberts', \"ST.LUKE'S\", 46.0, 4.6]\n",
            "['Christopher Fox', 'SAINT LOUIS UNIVERSITY', 42.365, 4.2365]\n",
            "['Benjamin Johnston', 'BJC', 48.26, 4.826]\n",
            "['Christopher Hernandez', 'MISSOURI BAPTIST', 41.61, 4.161]\n",
            "['Valerie Burch', 'BJC WEST COUNTY', 43.144999999999996, 4.3145]\n",
            "\n",
            " Hospital Results:\n",
            "[\"ST.LUKE'S\", 49.28707317073169, 4.92870731707317, 164]\n",
            "['SAINT LOUIS UNIVERSITY', 49.36060975609756, 4.936060975609758, 164]\n",
            "['BJC', 49.58717391304347, 4.95871739130435, 184]\n",
            "['MISSOURI BAPTIST', 49.856801242236, 4.985680124223601, 161]\n",
            "['BJC WEST COUNTY', 49.26999999999999, 4.9270000000000005, 171]\n"
          ]
        }
      ],
      "source": [
        "import csv\n",
        "import json\n",
        "\n",
        "# Step 1: Define file paths\n",
        "patient_csv = \"/content/patient.csv\"\n",
        "hospital_json = \"/content/hospitals (2).json\"\n",
        "\n",
        "# Step 2: Define a function to calculate the BODE Score and Risk\n",
        "def calculate_bode_score(patient):\n",
        "\n",
        "    bode_score = (patient['HEIGHT_M'] + patient['WEIGHT_KG']) / 2\n",
        "    bode_risk = bode_score / 10\n",
        "    return bode_score, bode_risk\n",
        "\n",
        "# Step 3: Load the patient data from CSV\n",
        "def load_patient_data(filename):\n",
        "    patient_data = []\n",
        "    with open(filename, mode='r') as file:\n",
        "        csv_reader = csv.DictReader(file)\n",
        "\n",
        "        # Print the headers (column names)\n",
        "        headers = csv_reader.fieldnames\n",
        "        print(\"CSV Headers:\", headers)\n",
        "\n",
        "        for row in csv_reader:\n",
        "            row['HEIGHT_M'] = float(row['HEIGHT_M'])\n",
        "            row['WEIGHT_KG'] = float(row['WEIGHT_KG'])\n",
        "            patient_data.append(row)\n",
        "\n",
        "    return patient_data\n",
        "\n",
        "# Step 4: Load the hospital data from JSON\n",
        "def load_hospital_data(filename):\n",
        "    with open(filename, mode='r') as file:\n",
        "        hospital_data = json.load(file)\n",
        "    return hospital_data\n",
        "\n",
        "# Step 5: Process the patients and calculate BODE Scores and Risks\n",
        "def process_patients_and_hospitals(patient_data, hospital_data):\n",
        "    patient_results = []\n",
        "    hospital_aggregates = {}\n",
        "\n",
        "    # Step 6: Process each patient\n",
        "    for patient in patient_data:\n",
        "        # Calculate the BODE score and risk for each patient\n",
        "        bode_score, bode_risk = calculate_bode_score(patient)\n",
        "        patient_id = patient['NAME']\n",
        "        hospital_id = patient['hospital']\n",
        "\n",
        "        # Store patient result\n",
        "        patient_results.append([patient_id, hospital_id, bode_score, bode_risk])\n",
        "\n",
        "        # Aggregate data by hospital\n",
        "        if hospital_id not in hospital_aggregates:\n",
        "            hospital_aggregates[hospital_id] = {\n",
        "                'total_bode_score': 0,\n",
        "                'total_bode_risk': 0,\n",
        "                'num_patients': 0\n",
        "            }\n",
        "\n",
        "        hospital_aggregates[hospital_id]['total_bode_score'] += bode_score\n",
        "        hospital_aggregates[hospital_id]['total_bode_risk'] += bode_risk\n",
        "        hospital_aggregates[hospital_id]['num_patients'] += 1\n",
        "\n",
        "    # Step 7: Calculate the averages for each hospital\n",
        "    hospital_output_list = []\n",
        "    for hospital_id, aggregates in hospital_aggregates.items():\n",
        "        avg_bode_score = aggregates['total_bode_score'] / aggregates['num_patients']\n",
        "        avg_bode_risk = aggregates['total_bode_risk'] / aggregates['num_patients']\n",
        "        hospital_output_list.append([hospital_id, avg_bode_score, avg_bode_risk, aggregates['num_patients']])\n",
        "\n",
        "    return patient_results, hospital_output_list\n",
        "\n",
        "# Step 8: Write the results to CSV files\n",
        "def write_csv(filename, data, headers=None):\n",
        "    with open(filename, 'w', newline='') as csvfile:\n",
        "        writer = csv.writer(csvfile)\n",
        "        if headers:\n",
        "            writer.writerow(headers)\n",
        "        writer.writerows(data)\n",
        "\n",
        "# Step 9: Load data, process it, and save the results\n",
        "patient_data = load_patient_data(patient_csv)\n",
        "hospital_data = load_hospital_data(hospital_json)\n",
        "\n",
        "# Process the data and get the results\n",
        "patient_results, hospital_output_list = process_patients_and_hospitals(patient_data, hospital_data)\n",
        "\n",
        "# Write the patient and hospital results to their respective CSV files\n",
        "write_csv(\"patient_output.csv\", patient_results, headers=[\"PATIENT_NAME\", \"HOSPITAL\", \"BODE_SCORE\", \"BODE_RISK\"])\n",
        "write_csv(\"hospital_output.csv\", hospital_output_list, headers=[\"HOSPITAL\", \"AVG_BODE_SCORE\", \"AVG_BODE_RISK\", \"NUM_PATIENTS\"])\n",
        "\n",
        "# Output for verification (first few lines)\n",
        "print(\"Patient Results:\")\n",
        "for row in patient_results[:5]:\n",
        "    print(row)\n",
        "\n",
        "print(\"\\n Hospital Results:\")\n",
        "for row in hospital_output_list[:5]:\n",
        "    print(row)\n"
      ]
    },
    {
      "cell_type": "code",
      "source": [],
      "metadata": {
        "id": "-hUm-fUsplvD"
      },
      "execution_count": 28,
      "outputs": []
    }
  ],
  "metadata": {
    "language_info": {
      "name": "python"
    },
    "colab": {
      "provenance": [],
      "include_colab_link": true
    },
    "kernelspec": {
      "name": "python3",
      "display_name": "Python 3"
    }
  },
  "nbformat": 4,
  "nbformat_minor": 0
}