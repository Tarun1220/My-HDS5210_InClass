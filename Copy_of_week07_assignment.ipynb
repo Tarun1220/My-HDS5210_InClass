{
  "cells": [
    {
      "cell_type": "markdown",
      "metadata": {
        "id": "view-in-github",
        "colab_type": "text"
      },
      "source": [
        "<a href=\"https://colab.research.google.com/github/Tarun1220/My-HDS5210_InClass/blob/master/Copy_of_week07_assignment.ipynb\" target=\"_parent\"><img src=\"https://colab.research.google.com/assets/colab-badge.svg\" alt=\"Open In Colab\"/></a>"
      ]
    },
    {
      "cell_type": "markdown",
      "metadata": {
        "id": "26-FAFGzf1TP"
      },
      "source": [
        "# Week 7 Assignment\n",
        "\n",
        "We've been working with different types of data structures in Python (dictionary, list, etc), how those are represented in JSON documents, and how to write code to access specific data elements. In this week's assignment, you will need to create your own JSON document to store information about yourself and the grades you've received from week 1 to week 4 and the week 6 quiz.  That is, everything you should have received a grade for.  Then you'll need to show me you know how to navigate the JSON in that file.\n",
        "\n",
        "Different from what we've done in the past, you do not have to write any functions or include any docstrings.  Just create some JSON and write some code.\n",
        "\n",
        "---"
      ]
    },
    {
      "cell_type": "markdown",
      "metadata": {
        "id": "h-9N22tkf1TR"
      },
      "source": [
        "## 7.1 Create a JSON file\n",
        "\n",
        "Create a JSON file that contains your name, email, year you were born, all of the grades you've received back so far, and a comment about what you thought was most challenging on each of those assignments.  This can be any structure you choose, but make sure it uses a dictionary and a list, and has at least two levels of hierarchy.  That is, it can't just be one big long list."
      ]
    },
    {
      "cell_type": "code",
      "source": [],
      "metadata": {
        "id": "9EpvFIitEW1L"
      },
      "execution_count": null,
      "outputs": []
    },
    {
      "cell_type": "markdown",
      "metadata": {
        "id": "3VpCsySBf1TR"
      },
      "source": [
        "First, explain how your data structure is going to look..."
      ]
    },
    {
      "cell_type": "markdown",
      "metadata": {
        "id": "fPaC2efef1TS"
      },
      "source": [
        "* The JSON file's structure will have a root dictionary with two primary sections: personal information and grades. The `personal_info` key will link to a dictionary containing details like name, email, and birth year. Meanwhile, the `grades` key will map to a list of dictionaries, with each dictionary representing the grade and feedback for a specific week. Each entry will include keys for week, grade, and comment, providing a clear record of the grades received and any difficulties encountered. This organized format simplifies access to both personal and academic details, making the information easy to manage."
      ]
    },
    {
      "cell_type": "markdown",
      "metadata": {
        "id": "1jbVAhhAf1TT"
      },
      "source": [
        "Then put the actual JSON you've created inside the multiline string below..."
      ]
    },
    {
      "cell_type": "code",
      "execution_count": null,
      "metadata": {
        "id": "46rrFJiJf1TT"
      },
      "outputs": [],
      "source": [
        "hds5210 =\n",
        "\"\"\"\n",
        "{\n",
        "  \"name\": \"Tarun Kumar\",\n",
        "  \"email\": \"tarunkumar.paidipamula@slu.edu\",\n",
        "  \"year_born\": 2003,\n",
        "  ---- grades I got in each week assignment ----\n",
        "  \"assignments\": [\n",
        "    {\n",
        "      \"week-1\": \"Setup github & add collabrator\",\n",
        "      \"grade\": \"10\",\n",
        "      \"comment\": \"First I forgot to add collabrato, after a while I realized that and then I added Adam as a collabrator for my repository.\"\n",
        "    },\n",
        "    {\n",
        "      \"week-2\": \"Programming Project 1\",\n",
        "      \"grade\": \"8\",\n",
        "      \"comment\": \"As I was new to coding I made a poor choices in terms of variables/functions names,did't documented well and did't performed asssertions,\n",
        "       So I got low grage.\"\n",
        "    },\n",
        "    {\n",
        "      \"week-3\": \"Programming Project 2\",\n",
        "      \"grade\": \"08\",\n",
        "      \"comment\": \"Got trouble while dealing with LACE score but I overcomed it.\"\n",
        "    },\n",
        "    {\n",
        "      \"week-4\": \"Programming Project 3\",\n",
        "      \"grade\": \"12\",\n",
        "      \"comment\": \"I was confused while dealing with nested lists,later I understood from the Mckenny 3.1.\"\n",
        "    },\n",
        "    {\n",
        "      \"week-5\": \"Programming Project 4\",\n",
        "      \"grade\": \"not assigned\",\n",
        "      \"comment\": \"Docstrings was little bit easy to understand, it will help for documentation of code.\"\n",
        "    }\n",
        "  ]\n",
        "}\n",
        "\"\"\""
      ]
    },
    {
      "cell_type": "markdown",
      "metadata": {
        "id": "HVwHStILf1TU"
      },
      "source": [
        "## 7.2 Do something with your JSON\n",
        "\n",
        "Now use Python code to do something with the Json above.  Turn it into English text, but make sure that you use at least one loop to access some dict or list content of your JSON.  Below, I've provided some basic code to read in the string above as JSON and return a Python object.  Your job is to work with that data structure and print out the important information like your name, email, and how you did on each assignment."
      ]
    },
    {
      "cell_type": "code",
      "execution_count": 8,
      "metadata": {
        "id": "v9IUf3J7f1TV",
        "colab": {
          "base_uri": "https://localhost:8080/"
        },
        "outputId": "b8bcefe0-90e0-47d2-d066-2ec2feda687a"
      },
      "outputs": [
        {
          "output_type": "stream",
          "name": "stdout",
          "text": [
            "Student Name: Tarun Kumar\n",
            "Email: tarunkumar.paidipamula@slu.edu\n",
            "\n",
            "Assignment Details:\n",
            "- Week-1: Setup github & add collabrator\n",
            "  Grade: 10\n",
            "  Comment: First I forgot to add collabrato, after a while I realized that and then I added Adam as a collabrator for my repository.\n",
            "\n",
            "- Week-2: Programming Project 1\n",
            "  Grade: 8\n",
            "  Comment: As I was new to coding I made a poor choices in terms of variables/functions names,did't documented well and did't performed asssertions, So I got low grage.\n",
            "\n",
            "- Week-3: Programming Project 2\n",
            "  Grade: 08\n",
            "  Comment: Got trouble while dealing with LACE score but I overcomed it.\n",
            "\n",
            "- Week-4: Programming Project 3\n",
            "  Grade: 12\n",
            "  Comment: I was confused while dealing with nested lists,later I understood from the Mckenny 3.1.\n",
            "\n",
            "- Week-5: Programming Project 4\n",
            "  Grade: not assigned\n",
            "  Comment: Docstrings was little bit easy to understand, it will help for documentation of code.\n",
            "\n"
          ]
        }
      ],
      "source": [
        "import json\n",
        "\n",
        "# Original JSON string\n",
        "hds5210 = \"\"\"\n",
        "{\n",
        "  \"name\": \"Tarun Kumar\",\n",
        "  \"email\": \"tarunkumar.paidipamula@slu.edu\",\n",
        "  \"year_born\": 2003,\n",
        "  \"assignments\": [\n",
        "    {\n",
        "      \"week-1\": \"Setup github & add collabrator\",\n",
        "      \"grade\": \"10\",\n",
        "      \"comment\": \"First I forgot to add collabrato, after a while I realized that and then I added Adam as a collabrator for my repository.\"\n",
        "    },\n",
        "    {\n",
        "      \"week-2\": \"Programming Project 1\",\n",
        "      \"grade\": \"8\",\n",
        "      \"comment\": \"As I was new to coding I made a poor choices in terms of variables/functions names,did't documented well and did't performed asssertions, So I got low grage.\"\n",
        "    },\n",
        "    {\n",
        "      \"week-3\": \"Programming Project 2\",\n",
        "      \"grade\": \"08\",\n",
        "      \"comment\": \"Got trouble while dealing with LACE score but I overcomed it.\"\n",
        "    },\n",
        "    {\n",
        "      \"week-4\": \"Programming Project 3\",\n",
        "      \"grade\": \"12\",\n",
        "      \"comment\": \"I was confused while dealing with nested lists,later I understood from the Mckenny 3.1.\"\n",
        "    },\n",
        "    {\n",
        "      \"week-5\": \"Programming Project 4\",\n",
        "      \"grade\": \"not assigned\",\n",
        "      \"comment\": \"Docstrings was little bit easy to understand, it will help for documentation of code.\"\n",
        "    }\n",
        "  ]\n",
        "}\n",
        "\"\"\"\n",
        "\n",
        "# Parse the JSON string into a Python dictionary\n",
        "data = json.loads(hds5210)\n",
        "\n",
        "# Extract personal information\n",
        "name = data[\"name\"]\n",
        "email = data[\"email\"]\n",
        "\n",
        "# Print personal information\n",
        "print(f\"Student Name: {name}\")\n",
        "print(f\"Email: {email}\\n\")\n",
        "\n",
        "# Loop through assignments and print out each week's details\n",
        "print(\"Assignment Details:\")\n",
        "for assignment in data[\"assignments\"]:\n",
        "    week = list(assignment.keys())[0]  # Extract the week key (e.g., \"week-1\")\n",
        "    description = assignment[week]\n",
        "    grade = assignment[\"grade\"]\n",
        "    comment = assignment[\"comment\"]\n",
        "\n",
        "    # Print assignment details\n",
        "    print(f\"- {week.capitalize()}: {description}\")\n",
        "    print(f\"  Grade: {grade}\")\n",
        "    print(f\"  Comment: {comment}\\n\")\n"
      ]
    },
    {
      "cell_type": "markdown",
      "metadata": {
        "id": "v6LhgBm0f1TV"
      },
      "source": [
        "## 7.3 Reflect\n",
        "\n",
        "Write a paragraph on any reflections you have. Was this hard? Easy?  What parts were most challenging or easiest? What did you like or dislike about the assignment?  Share whatever important thoughts you have abou this assignment."
      ]
    },
    {
      "cell_type": "markdown",
      "metadata": {
        "id": "gcQvvLZOf1TV"
      },
      "source": [
        "This assignment provided a valuable opportunity to work with JSON data and use Python to transform it into a more readable format. Overall, I found the task straightforward, given my familiarity with fundamental Python concepts like loops and dictionaries. Loading the JSON data into a Python dictionary and accessing values through their keys was the easiest part.\n",
        "\n",
        "The slightly more complex part was constructing a well-formatted English summary while looping through the assignments. It required careful attention to string formatting to maintain clarity, but it served as a good exercise in managing dynamic data with Python.\n",
        "\n",
        "What I appreciated most about the assignment was how it highlighted the significance of structured data and demonstrated the usefulness of JSON for exchanging and processing information in Python. I enjoyed the flexibility to design my own data structure and then manipulate it programmatically. The only tedious part was manually entering the detailed assignment information, but that’s a minor inconvenience.\n",
        "\n",
        "In summary, this exercise effectively combined JSON manipulation with Python scripting, making it both practical and relatively simple to complete.\n",
        "\n",
        "\n",
        "\n",
        "\n",
        "\n",
        "\n",
        "\n"
      ]
    },
    {
      "cell_type": "markdown",
      "metadata": {
        "id": "25YHRNzUf1TW"
      },
      "source": [
        "---\n",
        "\n",
        "# Example\n",
        "\n",
        "Below is an example of something similar, but this uses information my and my friend's kids instead of grades."
      ]
    },
    {
      "cell_type": "code",
      "execution_count": null,
      "metadata": {
        "id": "OzD-uTLxf1TW",
        "outputId": "21156adc-fd21-49ef-99de-58f16815dfd5"
      },
      "outputs": [
        {
          "name": "stdout",
          "output_type": "stream",
          "text": [
            "Hi, my name is Paul. I've got 3 kids. Their names are Ellie, Ada, Teddy.\n",
            "My friend, Anny has 1 kids. That's fewer than me. Their names are 1\n"
          ]
        }
      ],
      "source": [
        "hds5210 = \"\"\"\n",
        "{\n",
        "    \"me\": {\n",
        "        \"name\": \"Paul\",\n",
        "        \"kids\": [\"Ellie\", \"Ada\", \"Teddy\"]\n",
        "    },\n",
        "    \"friend\": {\n",
        "        \"name\": \"Anny\",\n",
        "        \"kids\": [\"Abby\"]\n",
        "    }\n",
        "}\n",
        "\"\"\"\n",
        "\n",
        "import json\n",
        "\n",
        "info = json.loads(hds5210)\n",
        "\n",
        "me = info[\"me\"][\"name\"]\n",
        "my_kids_count = len(info[\"me\"][\"kids\"])\n",
        "kids_list = \", \".join(info[\"me\"][\"kids\"])\n",
        "friend = info[\"friend\"][\"name\"]\n",
        "friends_kid_count = len(info[\"friend\"][\"kids\"])\n",
        "friend_kids = \", \".join(info[\"friend\"][\"kids\"])\n",
        "compare = \"more\" if friends_kid_count > my_kids_count else \"fewer\"\n",
        "\n",
        "print(f\"Hi, my name is {me}. I've got {my_kids_count} kids. Their names are {kids_list}.\")\n",
        "print(f\"My friend, {friend} has {friends_kid_count} kids. That's {compare} than me. Their names are {friends_kid_count}\")"
      ]
    }
  ],
  "metadata": {
    "kernelspec": {
      "display_name": "Python 3",
      "language": "python",
      "name": "python3"
    },
    "language_info": {
      "codemirror_mode": {
        "name": "ipython",
        "version": 3
      },
      "file_extension": ".py",
      "mimetype": "text/x-python",
      "name": "python",
      "nbconvert_exporter": "python",
      "pygments_lexer": "ipython3",
      "version": "3.9.16"
    },
    "colab": {
      "provenance": [],
      "include_colab_link": true
    }
  },
  "nbformat": 4,
  "nbformat_minor": 0
}